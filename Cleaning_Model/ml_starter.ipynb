{
 "cells": [
  {
   "cell_type": "code",
   "execution_count": 1,
   "metadata": {
    "ExecuteTime": {
     "end_time": "2020-10-04T23:49:44.114609Z",
     "start_time": "2020-10-04T23:49:38.624392Z"
    }
   },
   "outputs": [
    {
     "name": "stdout",
     "output_type": "stream",
     "text": [
      "Requirement already satisfied: sklearn in /Users/acmuniz/opt/anaconda3/envs/PythonAdv/lib/python3.6/site-packages (0.0)\n",
      "Requirement already satisfied: scikit-learn in /Users/acmuniz/opt/anaconda3/envs/PythonAdv/lib/python3.6/site-packages (from sklearn) (0.23.2)\n",
      "Requirement already satisfied: scipy>=0.19.1 in /Users/acmuniz/opt/anaconda3/envs/PythonAdv/lib/python3.6/site-packages (from scikit-learn->sklearn) (1.5.2)\n",
      "Requirement already satisfied: numpy>=1.13.3 in /Users/acmuniz/opt/anaconda3/envs/PythonAdv/lib/python3.6/site-packages (from scikit-learn->sklearn) (1.19.2)\n",
      "Requirement already satisfied: joblib>=0.11 in /Users/acmuniz/opt/anaconda3/envs/PythonAdv/lib/python3.6/site-packages (from scikit-learn->sklearn) (1.0.0)\n",
      "Requirement already satisfied: threadpoolctl>=2.0.0 in /Users/acmuniz/opt/anaconda3/envs/PythonAdv/lib/python3.6/site-packages (from scikit-learn->sklearn) (2.1.0)\n"
     ]
    }
   ],
   "source": [
    "# Update sklearn to prevent version mismatches\n",
    "!pip install sklearn --upgrade"
   ]
  },
  {
   "cell_type": "code",
   "execution_count": 2,
   "metadata": {
    "ExecuteTime": {
     "end_time": "2020-10-04T23:49:45.248724Z",
     "start_time": "2020-10-04T23:49:44.117099Z"
    }
   },
   "outputs": [
    {
     "name": "stdout",
     "output_type": "stream",
     "text": [
      "Requirement already satisfied: joblib in /Users/acmuniz/opt/anaconda3/envs/PythonAdv/lib/python3.6/site-packages (1.0.0)\r\n"
     ]
    }
   ],
   "source": [
    "# install joblib. This will be used to save your model. \n",
    "# Restart your kernel after installing \n",
    "!pip install joblib"
   ]
  },
  {
   "cell_type": "code",
   "execution_count": 3,
   "metadata": {},
   "outputs": [
    {
     "name": "stdout",
     "output_type": "stream",
     "text": [
      "Requirement already satisfied: seaborn in /Users/acmuniz/opt/anaconda3/envs/PythonAdv/lib/python3.6/site-packages (0.11.1)\n",
      "Requirement already satisfied: matplotlib>=2.2 in /Users/acmuniz/opt/anaconda3/envs/PythonAdv/lib/python3.6/site-packages (from seaborn) (3.3.2)\n",
      "Requirement already satisfied: scipy>=1.0 in /Users/acmuniz/opt/anaconda3/envs/PythonAdv/lib/python3.6/site-packages (from seaborn) (1.5.2)\n",
      "Requirement already satisfied: numpy>=1.15 in /Users/acmuniz/opt/anaconda3/envs/PythonAdv/lib/python3.6/site-packages (from seaborn) (1.19.2)\n",
      "Requirement already satisfied: pandas>=0.23 in /Users/acmuniz/opt/anaconda3/envs/PythonAdv/lib/python3.6/site-packages (from seaborn) (1.1.5)\n",
      "Requirement already satisfied: kiwisolver>=1.0.1 in /Users/acmuniz/opt/anaconda3/envs/PythonAdv/lib/python3.6/site-packages (from matplotlib>=2.2->seaborn) (1.3.1)\n",
      "Requirement already satisfied: cycler>=0.10 in /Users/acmuniz/opt/anaconda3/envs/PythonAdv/lib/python3.6/site-packages (from matplotlib>=2.2->seaborn) (0.10.0)\n",
      "Requirement already satisfied: pyparsing!=2.0.4,!=2.1.2,!=2.1.6,>=2.0.3 in /Users/acmuniz/opt/anaconda3/envs/PythonAdv/lib/python3.6/site-packages (from matplotlib>=2.2->seaborn) (2.4.7)\n",
      "Requirement already satisfied: certifi>=2020.06.20 in /Users/acmuniz/opt/anaconda3/envs/PythonAdv/lib/python3.6/site-packages (from matplotlib>=2.2->seaborn) (2020.12.5)\n",
      "Requirement already satisfied: python-dateutil>=2.1 in /Users/acmuniz/opt/anaconda3/envs/PythonAdv/lib/python3.6/site-packages (from matplotlib>=2.2->seaborn) (2.8.1)\n",
      "Requirement already satisfied: pillow>=6.2.0 in /Users/acmuniz/opt/anaconda3/envs/PythonAdv/lib/python3.6/site-packages (from matplotlib>=2.2->seaborn) (8.1.0)\n",
      "Requirement already satisfied: six in /Users/acmuniz/opt/anaconda3/envs/PythonAdv/lib/python3.6/site-packages (from cycler>=0.10->matplotlib>=2.2->seaborn) (1.15.0)\n",
      "Requirement already satisfied: pytz>=2017.2 in /Users/acmuniz/opt/anaconda3/envs/PythonAdv/lib/python3.6/site-packages (from pandas>=0.23->seaborn) (2021.1)\n",
      "Note: you may need to restart the kernel to use updated packages.\n"
     ]
    }
   ],
   "source": [
    "pip install seaborn"
   ]
  },
  {
   "cell_type": "code",
   "execution_count": 4,
   "metadata": {},
   "outputs": [
    {
     "name": "stdout",
     "output_type": "stream",
     "text": [
      "Requirement already satisfied: dataframe-image in /Users/acmuniz/opt/anaconda3/envs/PythonAdv/lib/python3.6/site-packages (0.1.1)\n",
      "Requirement already satisfied: matplotlib>=3.1 in /Users/acmuniz/opt/anaconda3/envs/PythonAdv/lib/python3.6/site-packages (from dataframe-image) (3.3.2)\n",
      "Requirement already satisfied: aiohttp in /Users/acmuniz/opt/anaconda3/envs/PythonAdv/lib/python3.6/site-packages (from dataframe-image) (3.7.3)\n",
      "Requirement already satisfied: beautifulsoup4 in /Users/acmuniz/opt/anaconda3/envs/PythonAdv/lib/python3.6/site-packages (from dataframe-image) (4.9.3)\n",
      "Requirement already satisfied: pandas>=0.24 in /Users/acmuniz/opt/anaconda3/envs/PythonAdv/lib/python3.6/site-packages (from dataframe-image) (1.1.5)\n",
      "Requirement already satisfied: nbconvert>=5 in /Users/acmuniz/opt/anaconda3/envs/PythonAdv/lib/python3.6/site-packages (from dataframe-image) (6.0.7)\n",
      "Requirement already satisfied: requests in /Users/acmuniz/opt/anaconda3/envs/PythonAdv/lib/python3.6/site-packages (from dataframe-image) (2.25.1)\n",
      "Requirement already satisfied: cycler>=0.10 in /Users/acmuniz/opt/anaconda3/envs/PythonAdv/lib/python3.6/site-packages (from matplotlib>=3.1->dataframe-image) (0.10.0)\n",
      "Requirement already satisfied: python-dateutil>=2.1 in /Users/acmuniz/opt/anaconda3/envs/PythonAdv/lib/python3.6/site-packages (from matplotlib>=3.1->dataframe-image) (2.8.1)\n",
      "Requirement already satisfied: certifi>=2020.06.20 in /Users/acmuniz/opt/anaconda3/envs/PythonAdv/lib/python3.6/site-packages (from matplotlib>=3.1->dataframe-image) (2020.12.5)\n",
      "Requirement already satisfied: numpy>=1.15 in /Users/acmuniz/opt/anaconda3/envs/PythonAdv/lib/python3.6/site-packages (from matplotlib>=3.1->dataframe-image) (1.19.2)\n",
      "Requirement already satisfied: kiwisolver>=1.0.1 in /Users/acmuniz/opt/anaconda3/envs/PythonAdv/lib/python3.6/site-packages (from matplotlib>=3.1->dataframe-image) (1.3.1)\n",
      "Requirement already satisfied: pyparsing!=2.0.4,!=2.1.2,!=2.1.6,>=2.0.3 in /Users/acmuniz/opt/anaconda3/envs/PythonAdv/lib/python3.6/site-packages (from matplotlib>=3.1->dataframe-image) (2.4.7)\n",
      "Requirement already satisfied: pillow>=6.2.0 in /Users/acmuniz/opt/anaconda3/envs/PythonAdv/lib/python3.6/site-packages (from matplotlib>=3.1->dataframe-image) (8.1.0)\n",
      "Requirement already satisfied: six in /Users/acmuniz/opt/anaconda3/envs/PythonAdv/lib/python3.6/site-packages (from cycler>=0.10->matplotlib>=3.1->dataframe-image) (1.15.0)\n",
      "Requirement already satisfied: defusedxml in /Users/acmuniz/opt/anaconda3/envs/PythonAdv/lib/python3.6/site-packages (from nbconvert>=5->dataframe-image) (0.6.0)\n",
      "Requirement already satisfied: entrypoints>=0.2.2 in /Users/acmuniz/opt/anaconda3/envs/PythonAdv/lib/python3.6/site-packages (from nbconvert>=5->dataframe-image) (0.3)\n",
      "Requirement already satisfied: traitlets>=4.2 in /Users/acmuniz/opt/anaconda3/envs/PythonAdv/lib/python3.6/site-packages (from nbconvert>=5->dataframe-image) (4.3.3)\n",
      "Requirement already satisfied: pandocfilters>=1.4.1 in /Users/acmuniz/opt/anaconda3/envs/PythonAdv/lib/python3.6/site-packages (from nbconvert>=5->dataframe-image) (1.4.3)\n",
      "Requirement already satisfied: bleach in /Users/acmuniz/opt/anaconda3/envs/PythonAdv/lib/python3.6/site-packages (from nbconvert>=5->dataframe-image) (3.3.0)\n",
      "Requirement already satisfied: testpath in /Users/acmuniz/opt/anaconda3/envs/PythonAdv/lib/python3.6/site-packages (from nbconvert>=5->dataframe-image) (0.4.4)\n",
      "Requirement already satisfied: nbclient<0.6.0,>=0.5.0 in /Users/acmuniz/opt/anaconda3/envs/PythonAdv/lib/python3.6/site-packages (from nbconvert>=5->dataframe-image) (0.5.1)\n",
      "Requirement already satisfied: jinja2>=2.4 in /Users/acmuniz/opt/anaconda3/envs/PythonAdv/lib/python3.6/site-packages (from nbconvert>=5->dataframe-image) (2.11.3)\n",
      "Requirement already satisfied: nbformat>=4.4 in /Users/acmuniz/opt/anaconda3/envs/PythonAdv/lib/python3.6/site-packages (from nbconvert>=5->dataframe-image) (5.1.2)\n",
      "Requirement already satisfied: jupyterlab-pygments in /Users/acmuniz/opt/anaconda3/envs/PythonAdv/lib/python3.6/site-packages (from nbconvert>=5->dataframe-image) (0.1.2)\n",
      "Requirement already satisfied: pygments>=2.4.1 in /Users/acmuniz/opt/anaconda3/envs/PythonAdv/lib/python3.6/site-packages (from nbconvert>=5->dataframe-image) (2.7.4)\n",
      "Requirement already satisfied: mistune<2,>=0.8.1 in /Users/acmuniz/opt/anaconda3/envs/PythonAdv/lib/python3.6/site-packages (from nbconvert>=5->dataframe-image) (0.8.4)\n",
      "Requirement already satisfied: jupyter-core in /Users/acmuniz/opt/anaconda3/envs/PythonAdv/lib/python3.6/site-packages (from nbconvert>=5->dataframe-image) (4.7.1)\n",
      "Requirement already satisfied: MarkupSafe>=0.23 in /Users/acmuniz/opt/anaconda3/envs/PythonAdv/lib/python3.6/site-packages (from jinja2>=2.4->nbconvert>=5->dataframe-image) (1.1.1)\n",
      "Requirement already satisfied: jupyter-client>=6.1.5 in /Users/acmuniz/opt/anaconda3/envs/PythonAdv/lib/python3.6/site-packages (from nbclient<0.6.0,>=0.5.0->nbconvert>=5->dataframe-image) (6.1.7)\n",
      "Requirement already satisfied: async-generator in /Users/acmuniz/opt/anaconda3/envs/PythonAdv/lib/python3.6/site-packages (from nbclient<0.6.0,>=0.5.0->nbconvert>=5->dataframe-image) (1.10)\n",
      "Requirement already satisfied: nest-asyncio in /Users/acmuniz/opt/anaconda3/envs/PythonAdv/lib/python3.6/site-packages (from nbclient<0.6.0,>=0.5.0->nbconvert>=5->dataframe-image) (1.4.3)\n",
      "Requirement already satisfied: tornado>=4.1 in /Users/acmuniz/opt/anaconda3/envs/PythonAdv/lib/python3.6/site-packages (from jupyter-client>=6.1.5->nbclient<0.6.0,>=0.5.0->nbconvert>=5->dataframe-image) (6.1)\n",
      "Requirement already satisfied: pyzmq>=13 in /Users/acmuniz/opt/anaconda3/envs/PythonAdv/lib/python3.6/site-packages (from jupyter-client>=6.1.5->nbclient<0.6.0,>=0.5.0->nbconvert>=5->dataframe-image) (20.0.0)\n",
      "Requirement already satisfied: jsonschema!=2.5.0,>=2.4 in /Users/acmuniz/opt/anaconda3/envs/PythonAdv/lib/python3.6/site-packages (from nbformat>=4.4->nbconvert>=5->dataframe-image) (3.2.0)\n",
      "Requirement already satisfied: ipython-genutils in /Users/acmuniz/opt/anaconda3/envs/PythonAdv/lib/python3.6/site-packages (from nbformat>=4.4->nbconvert>=5->dataframe-image) (0.2.0)\n",
      "Requirement already satisfied: pyrsistent>=0.14.0 in /Users/acmuniz/opt/anaconda3/envs/PythonAdv/lib/python3.6/site-packages (from jsonschema!=2.5.0,>=2.4->nbformat>=4.4->nbconvert>=5->dataframe-image) (0.17.3)\n",
      "Requirement already satisfied: setuptools in /Users/acmuniz/opt/anaconda3/envs/PythonAdv/lib/python3.6/site-packages (from jsonschema!=2.5.0,>=2.4->nbformat>=4.4->nbconvert>=5->dataframe-image) (52.0.0.post20210125)\n",
      "Requirement already satisfied: importlib-metadata in /Users/acmuniz/opt/anaconda3/envs/PythonAdv/lib/python3.6/site-packages (from jsonschema!=2.5.0,>=2.4->nbformat>=4.4->nbconvert>=5->dataframe-image) (2.0.0)\n",
      "Requirement already satisfied: attrs>=17.4.0 in /Users/acmuniz/opt/anaconda3/envs/PythonAdv/lib/python3.6/site-packages (from jsonschema!=2.5.0,>=2.4->nbformat>=4.4->nbconvert>=5->dataframe-image) (20.3.0)\n",
      "Requirement already satisfied: pytz>=2017.2 in /Users/acmuniz/opt/anaconda3/envs/PythonAdv/lib/python3.6/site-packages (from pandas>=0.24->dataframe-image) (2021.1)\n",
      "Requirement already satisfied: decorator in /Users/acmuniz/opt/anaconda3/envs/PythonAdv/lib/python3.6/site-packages (from traitlets>=4.2->nbconvert>=5->dataframe-image) (4.4.2)\n",
      "Requirement already satisfied: typing-extensions>=3.6.5 in /Users/acmuniz/opt/anaconda3/envs/PythonAdv/lib/python3.6/site-packages (from aiohttp->dataframe-image) (3.7.4.3)\n",
      "Requirement already satisfied: idna-ssl>=1.0 in /Users/acmuniz/opt/anaconda3/envs/PythonAdv/lib/python3.6/site-packages (from aiohttp->dataframe-image) (1.1.0)\n",
      "Requirement already satisfied: chardet<4.0,>=2.0 in /Users/acmuniz/opt/anaconda3/envs/PythonAdv/lib/python3.6/site-packages (from aiohttp->dataframe-image) (3.0.4)\n",
      "Requirement already satisfied: yarl<2.0,>=1.0 in /Users/acmuniz/opt/anaconda3/envs/PythonAdv/lib/python3.6/site-packages (from aiohttp->dataframe-image) (1.6.3)\n",
      "Requirement already satisfied: multidict<7.0,>=4.5 in /Users/acmuniz/opt/anaconda3/envs/PythonAdv/lib/python3.6/site-packages (from aiohttp->dataframe-image) (5.1.0)\n",
      "Requirement already satisfied: async-timeout<4.0,>=3.0 in /Users/acmuniz/opt/anaconda3/envs/PythonAdv/lib/python3.6/site-packages (from aiohttp->dataframe-image) (3.0.1)\n",
      "Requirement already satisfied: idna>=2.0 in /Users/acmuniz/opt/anaconda3/envs/PythonAdv/lib/python3.6/site-packages (from idna-ssl>=1.0->aiohttp->dataframe-image) (2.10)\n"
     ]
    },
    {
     "name": "stdout",
     "output_type": "stream",
     "text": [
      "Requirement already satisfied: soupsieve>1.2 in /Users/acmuniz/opt/anaconda3/envs/PythonAdv/lib/python3.6/site-packages (from beautifulsoup4->dataframe-image) (2.2)\n",
      "Requirement already satisfied: packaging in /Users/acmuniz/opt/anaconda3/envs/PythonAdv/lib/python3.6/site-packages (from bleach->nbconvert>=5->dataframe-image) (20.9)\n",
      "Requirement already satisfied: webencodings in /Users/acmuniz/opt/anaconda3/envs/PythonAdv/lib/python3.6/site-packages (from bleach->nbconvert>=5->dataframe-image) (0.5.1)\n",
      "Requirement already satisfied: zipp>=0.5 in /Users/acmuniz/opt/anaconda3/envs/PythonAdv/lib/python3.6/site-packages (from importlib-metadata->jsonschema!=2.5.0,>=2.4->nbformat>=4.4->nbconvert>=5->dataframe-image) (3.4.0)\n",
      "Requirement already satisfied: urllib3<1.27,>=1.21.1 in /Users/acmuniz/opt/anaconda3/envs/PythonAdv/lib/python3.6/site-packages (from requests->dataframe-image) (1.26.3)\n",
      "Note: you may need to restart the kernel to use updated packages.\n"
     ]
    }
   ],
   "source": [
    "pip install dataframe-image"
   ]
  },
  {
   "cell_type": "code",
   "execution_count": 5,
   "metadata": {},
   "outputs": [],
   "source": [
    "import pandas as pd\n",
    "import matplotlib.pyplot as plt\n",
    "import numpy as np\n",
    "from sklearn.preprocessing import LabelEncoder, StandardScaler\n",
    "from sklearn.ensemble import RandomForestRegressor, RandomForestClassifier\n",
    "from sklearn.model_selection import train_test_split, GridSearchCV\n",
    "from sklearn.svm import SVC \n",
    "from sklearn.metrics import classification_report\n",
    "from sklearn.neighbors import KNeighborsClassifier\n",
    "from sklearn import tree"
   ]
  },
  {
   "cell_type": "code",
   "execution_count": 6,
   "metadata": {
    "ExecuteTime": {
     "end_time": "2020-10-04T23:49:59.027094Z",
     "start_time": "2020-10-04T23:49:58.983353Z"
    }
   },
   "outputs": [
    {
     "data": {
      "text/html": [
       "<div>\n",
       "<style scoped>\n",
       "    .dataframe tbody tr th:only-of-type {\n",
       "        vertical-align: middle;\n",
       "    }\n",
       "\n",
       "    .dataframe tbody tr th {\n",
       "        vertical-align: top;\n",
       "    }\n",
       "\n",
       "    .dataframe thead th {\n",
       "        text-align: right;\n",
       "    }\n",
       "</style>\n",
       "<table border=\"1\" class=\"dataframe\">\n",
       "  <thead>\n",
       "    <tr style=\"text-align: right;\">\n",
       "      <th></th>\n",
       "      <th>koi_disposition</th>\n",
       "      <th>koi_fpflag_nt</th>\n",
       "      <th>koi_fpflag_ss</th>\n",
       "      <th>koi_fpflag_co</th>\n",
       "      <th>koi_fpflag_ec</th>\n",
       "      <th>koi_period</th>\n",
       "      <th>koi_period_err1</th>\n",
       "      <th>koi_period_err2</th>\n",
       "      <th>koi_time0bk</th>\n",
       "      <th>koi_time0bk_err1</th>\n",
       "      <th>...</th>\n",
       "      <th>koi_steff_err2</th>\n",
       "      <th>koi_slogg</th>\n",
       "      <th>koi_slogg_err1</th>\n",
       "      <th>koi_slogg_err2</th>\n",
       "      <th>koi_srad</th>\n",
       "      <th>koi_srad_err1</th>\n",
       "      <th>koi_srad_err2</th>\n",
       "      <th>ra</th>\n",
       "      <th>dec</th>\n",
       "      <th>koi_kepmag</th>\n",
       "    </tr>\n",
       "  </thead>\n",
       "  <tbody>\n",
       "    <tr>\n",
       "      <th>0</th>\n",
       "      <td>CONFIRMED</td>\n",
       "      <td>0</td>\n",
       "      <td>0</td>\n",
       "      <td>0</td>\n",
       "      <td>0</td>\n",
       "      <td>54.418383</td>\n",
       "      <td>2.479000e-04</td>\n",
       "      <td>-2.479000e-04</td>\n",
       "      <td>162.513840</td>\n",
       "      <td>0.003520</td>\n",
       "      <td>...</td>\n",
       "      <td>-81</td>\n",
       "      <td>4.467</td>\n",
       "      <td>0.064</td>\n",
       "      <td>-0.096</td>\n",
       "      <td>0.927</td>\n",
       "      <td>0.105</td>\n",
       "      <td>-0.061</td>\n",
       "      <td>291.93423</td>\n",
       "      <td>48.141651</td>\n",
       "      <td>15.347</td>\n",
       "    </tr>\n",
       "    <tr>\n",
       "      <th>1</th>\n",
       "      <td>FALSE POSITIVE</td>\n",
       "      <td>0</td>\n",
       "      <td>1</td>\n",
       "      <td>0</td>\n",
       "      <td>0</td>\n",
       "      <td>19.899140</td>\n",
       "      <td>1.490000e-05</td>\n",
       "      <td>-1.490000e-05</td>\n",
       "      <td>175.850252</td>\n",
       "      <td>0.000581</td>\n",
       "      <td>...</td>\n",
       "      <td>-176</td>\n",
       "      <td>4.544</td>\n",
       "      <td>0.044</td>\n",
       "      <td>-0.176</td>\n",
       "      <td>0.868</td>\n",
       "      <td>0.233</td>\n",
       "      <td>-0.078</td>\n",
       "      <td>297.00482</td>\n",
       "      <td>48.134129</td>\n",
       "      <td>15.436</td>\n",
       "    </tr>\n",
       "    <tr>\n",
       "      <th>2</th>\n",
       "      <td>FALSE POSITIVE</td>\n",
       "      <td>0</td>\n",
       "      <td>1</td>\n",
       "      <td>0</td>\n",
       "      <td>0</td>\n",
       "      <td>1.736952</td>\n",
       "      <td>2.630000e-07</td>\n",
       "      <td>-2.630000e-07</td>\n",
       "      <td>170.307565</td>\n",
       "      <td>0.000115</td>\n",
       "      <td>...</td>\n",
       "      <td>-174</td>\n",
       "      <td>4.564</td>\n",
       "      <td>0.053</td>\n",
       "      <td>-0.168</td>\n",
       "      <td>0.791</td>\n",
       "      <td>0.201</td>\n",
       "      <td>-0.067</td>\n",
       "      <td>285.53461</td>\n",
       "      <td>48.285210</td>\n",
       "      <td>15.597</td>\n",
       "    </tr>\n",
       "    <tr>\n",
       "      <th>3</th>\n",
       "      <td>CONFIRMED</td>\n",
       "      <td>0</td>\n",
       "      <td>0</td>\n",
       "      <td>0</td>\n",
       "      <td>0</td>\n",
       "      <td>2.525592</td>\n",
       "      <td>3.760000e-06</td>\n",
       "      <td>-3.760000e-06</td>\n",
       "      <td>171.595550</td>\n",
       "      <td>0.001130</td>\n",
       "      <td>...</td>\n",
       "      <td>-211</td>\n",
       "      <td>4.438</td>\n",
       "      <td>0.070</td>\n",
       "      <td>-0.210</td>\n",
       "      <td>1.046</td>\n",
       "      <td>0.334</td>\n",
       "      <td>-0.133</td>\n",
       "      <td>288.75488</td>\n",
       "      <td>48.226200</td>\n",
       "      <td>15.509</td>\n",
       "    </tr>\n",
       "    <tr>\n",
       "      <th>4</th>\n",
       "      <td>CONFIRMED</td>\n",
       "      <td>0</td>\n",
       "      <td>0</td>\n",
       "      <td>0</td>\n",
       "      <td>0</td>\n",
       "      <td>4.134435</td>\n",
       "      <td>1.050000e-05</td>\n",
       "      <td>-1.050000e-05</td>\n",
       "      <td>172.979370</td>\n",
       "      <td>0.001900</td>\n",
       "      <td>...</td>\n",
       "      <td>-232</td>\n",
       "      <td>4.486</td>\n",
       "      <td>0.054</td>\n",
       "      <td>-0.229</td>\n",
       "      <td>0.972</td>\n",
       "      <td>0.315</td>\n",
       "      <td>-0.105</td>\n",
       "      <td>296.28613</td>\n",
       "      <td>48.224670</td>\n",
       "      <td>15.714</td>\n",
       "    </tr>\n",
       "    <tr>\n",
       "      <th>...</th>\n",
       "      <td>...</td>\n",
       "      <td>...</td>\n",
       "      <td>...</td>\n",
       "      <td>...</td>\n",
       "      <td>...</td>\n",
       "      <td>...</td>\n",
       "      <td>...</td>\n",
       "      <td>...</td>\n",
       "      <td>...</td>\n",
       "      <td>...</td>\n",
       "      <td>...</td>\n",
       "      <td>...</td>\n",
       "      <td>...</td>\n",
       "      <td>...</td>\n",
       "      <td>...</td>\n",
       "      <td>...</td>\n",
       "      <td>...</td>\n",
       "      <td>...</td>\n",
       "      <td>...</td>\n",
       "      <td>...</td>\n",
       "      <td>...</td>\n",
       "    </tr>\n",
       "    <tr>\n",
       "      <th>6986</th>\n",
       "      <td>FALSE POSITIVE</td>\n",
       "      <td>0</td>\n",
       "      <td>0</td>\n",
       "      <td>0</td>\n",
       "      <td>1</td>\n",
       "      <td>8.589871</td>\n",
       "      <td>1.846000e-04</td>\n",
       "      <td>-1.846000e-04</td>\n",
       "      <td>132.016100</td>\n",
       "      <td>0.015700</td>\n",
       "      <td>...</td>\n",
       "      <td>-152</td>\n",
       "      <td>4.296</td>\n",
       "      <td>0.231</td>\n",
       "      <td>-0.189</td>\n",
       "      <td>1.088</td>\n",
       "      <td>0.313</td>\n",
       "      <td>-0.228</td>\n",
       "      <td>298.74921</td>\n",
       "      <td>46.973351</td>\n",
       "      <td>14.478</td>\n",
       "    </tr>\n",
       "    <tr>\n",
       "      <th>6987</th>\n",
       "      <td>FALSE POSITIVE</td>\n",
       "      <td>0</td>\n",
       "      <td>1</td>\n",
       "      <td>1</td>\n",
       "      <td>0</td>\n",
       "      <td>0.527699</td>\n",
       "      <td>1.160000e-07</td>\n",
       "      <td>-1.160000e-07</td>\n",
       "      <td>131.705093</td>\n",
       "      <td>0.000170</td>\n",
       "      <td>...</td>\n",
       "      <td>-166</td>\n",
       "      <td>4.529</td>\n",
       "      <td>0.035</td>\n",
       "      <td>-0.196</td>\n",
       "      <td>0.903</td>\n",
       "      <td>0.237</td>\n",
       "      <td>-0.079</td>\n",
       "      <td>297.18875</td>\n",
       "      <td>47.093819</td>\n",
       "      <td>14.082</td>\n",
       "    </tr>\n",
       "    <tr>\n",
       "      <th>6988</th>\n",
       "      <td>CANDIDATE</td>\n",
       "      <td>0</td>\n",
       "      <td>0</td>\n",
       "      <td>0</td>\n",
       "      <td>0</td>\n",
       "      <td>1.739849</td>\n",
       "      <td>1.780000e-05</td>\n",
       "      <td>-1.780000e-05</td>\n",
       "      <td>133.001270</td>\n",
       "      <td>0.007690</td>\n",
       "      <td>...</td>\n",
       "      <td>-220</td>\n",
       "      <td>4.444</td>\n",
       "      <td>0.056</td>\n",
       "      <td>-0.224</td>\n",
       "      <td>1.031</td>\n",
       "      <td>0.341</td>\n",
       "      <td>-0.114</td>\n",
       "      <td>286.50937</td>\n",
       "      <td>47.163219</td>\n",
       "      <td>14.757</td>\n",
       "    </tr>\n",
       "    <tr>\n",
       "      <th>6989</th>\n",
       "      <td>FALSE POSITIVE</td>\n",
       "      <td>0</td>\n",
       "      <td>0</td>\n",
       "      <td>1</td>\n",
       "      <td>0</td>\n",
       "      <td>0.681402</td>\n",
       "      <td>2.430000e-06</td>\n",
       "      <td>-2.430000e-06</td>\n",
       "      <td>132.181750</td>\n",
       "      <td>0.002850</td>\n",
       "      <td>...</td>\n",
       "      <td>-236</td>\n",
       "      <td>4.447</td>\n",
       "      <td>0.056</td>\n",
       "      <td>-0.224</td>\n",
       "      <td>1.041</td>\n",
       "      <td>0.341</td>\n",
       "      <td>-0.114</td>\n",
       "      <td>294.16489</td>\n",
       "      <td>47.176281</td>\n",
       "      <td>15.385</td>\n",
       "    </tr>\n",
       "    <tr>\n",
       "      <th>6990</th>\n",
       "      <td>FALSE POSITIVE</td>\n",
       "      <td>0</td>\n",
       "      <td>0</td>\n",
       "      <td>1</td>\n",
       "      <td>1</td>\n",
       "      <td>4.856035</td>\n",
       "      <td>6.360000e-05</td>\n",
       "      <td>-6.360000e-05</td>\n",
       "      <td>135.993300</td>\n",
       "      <td>0.010800</td>\n",
       "      <td>...</td>\n",
       "      <td>-225</td>\n",
       "      <td>4.385</td>\n",
       "      <td>0.054</td>\n",
       "      <td>-0.216</td>\n",
       "      <td>1.193</td>\n",
       "      <td>0.410</td>\n",
       "      <td>-0.137</td>\n",
       "      <td>297.00977</td>\n",
       "      <td>47.121021</td>\n",
       "      <td>14.826</td>\n",
       "    </tr>\n",
       "  </tbody>\n",
       "</table>\n",
       "<p>6991 rows × 41 columns</p>\n",
       "</div>"
      ],
      "text/plain": [
       "     koi_disposition  koi_fpflag_nt  koi_fpflag_ss  koi_fpflag_co  \\\n",
       "0          CONFIRMED              0              0              0   \n",
       "1     FALSE POSITIVE              0              1              0   \n",
       "2     FALSE POSITIVE              0              1              0   \n",
       "3          CONFIRMED              0              0              0   \n",
       "4          CONFIRMED              0              0              0   \n",
       "...              ...            ...            ...            ...   \n",
       "6986  FALSE POSITIVE              0              0              0   \n",
       "6987  FALSE POSITIVE              0              1              1   \n",
       "6988       CANDIDATE              0              0              0   \n",
       "6989  FALSE POSITIVE              0              0              1   \n",
       "6990  FALSE POSITIVE              0              0              1   \n",
       "\n",
       "      koi_fpflag_ec  koi_period  koi_period_err1  koi_period_err2  \\\n",
       "0                 0   54.418383     2.479000e-04    -2.479000e-04   \n",
       "1                 0   19.899140     1.490000e-05    -1.490000e-05   \n",
       "2                 0    1.736952     2.630000e-07    -2.630000e-07   \n",
       "3                 0    2.525592     3.760000e-06    -3.760000e-06   \n",
       "4                 0    4.134435     1.050000e-05    -1.050000e-05   \n",
       "...             ...         ...              ...              ...   \n",
       "6986              1    8.589871     1.846000e-04    -1.846000e-04   \n",
       "6987              0    0.527699     1.160000e-07    -1.160000e-07   \n",
       "6988              0    1.739849     1.780000e-05    -1.780000e-05   \n",
       "6989              0    0.681402     2.430000e-06    -2.430000e-06   \n",
       "6990              1    4.856035     6.360000e-05    -6.360000e-05   \n",
       "\n",
       "      koi_time0bk  koi_time0bk_err1  ...  koi_steff_err2  koi_slogg  \\\n",
       "0      162.513840          0.003520  ...             -81      4.467   \n",
       "1      175.850252          0.000581  ...            -176      4.544   \n",
       "2      170.307565          0.000115  ...            -174      4.564   \n",
       "3      171.595550          0.001130  ...            -211      4.438   \n",
       "4      172.979370          0.001900  ...            -232      4.486   \n",
       "...           ...               ...  ...             ...        ...   \n",
       "6986   132.016100          0.015700  ...            -152      4.296   \n",
       "6987   131.705093          0.000170  ...            -166      4.529   \n",
       "6988   133.001270          0.007690  ...            -220      4.444   \n",
       "6989   132.181750          0.002850  ...            -236      4.447   \n",
       "6990   135.993300          0.010800  ...            -225      4.385   \n",
       "\n",
       "      koi_slogg_err1  koi_slogg_err2  koi_srad  koi_srad_err1  koi_srad_err2  \\\n",
       "0              0.064          -0.096     0.927          0.105         -0.061   \n",
       "1              0.044          -0.176     0.868          0.233         -0.078   \n",
       "2              0.053          -0.168     0.791          0.201         -0.067   \n",
       "3              0.070          -0.210     1.046          0.334         -0.133   \n",
       "4              0.054          -0.229     0.972          0.315         -0.105   \n",
       "...              ...             ...       ...            ...            ...   \n",
       "6986           0.231          -0.189     1.088          0.313         -0.228   \n",
       "6987           0.035          -0.196     0.903          0.237         -0.079   \n",
       "6988           0.056          -0.224     1.031          0.341         -0.114   \n",
       "6989           0.056          -0.224     1.041          0.341         -0.114   \n",
       "6990           0.054          -0.216     1.193          0.410         -0.137   \n",
       "\n",
       "             ra        dec  koi_kepmag  \n",
       "0     291.93423  48.141651      15.347  \n",
       "1     297.00482  48.134129      15.436  \n",
       "2     285.53461  48.285210      15.597  \n",
       "3     288.75488  48.226200      15.509  \n",
       "4     296.28613  48.224670      15.714  \n",
       "...         ...        ...         ...  \n",
       "6986  298.74921  46.973351      14.478  \n",
       "6987  297.18875  47.093819      14.082  \n",
       "6988  286.50937  47.163219      14.757  \n",
       "6989  294.16489  47.176281      15.385  \n",
       "6990  297.00977  47.121021      14.826  \n",
       "\n",
       "[6991 rows x 41 columns]"
      ]
     },
     "execution_count": 6,
     "metadata": {},
     "output_type": "execute_result"
    }
   ],
   "source": [
    "\n",
    "df = pd.read_csv(\"../Data/exoplanet_data.csv\")\n",
    "df"
   ]
  },
  {
   "cell_type": "markdown",
   "metadata": {},
   "source": [
    "# Read the CSV and Perform Basic Data Cleaning"
   ]
  },
  {
   "cell_type": "code",
   "execution_count": 7,
   "metadata": {
    "ExecuteTime": {
     "end_time": "2020-10-04T23:53:37.633975Z",
     "start_time": "2020-10-04T23:53:37.627690Z"
    }
   },
   "outputs": [
    {
     "name": "stdout",
     "output_type": "stream",
     "text": [
      "<class 'pandas.core.frame.DataFrame'>\n",
      "RangeIndex: 6991 entries, 0 to 6990\n",
      "Data columns (total 41 columns):\n",
      " #   Column             Non-Null Count  Dtype  \n",
      "---  ------             --------------  -----  \n",
      " 0   koi_disposition    6991 non-null   object \n",
      " 1   koi_fpflag_nt      6991 non-null   int64  \n",
      " 2   koi_fpflag_ss      6991 non-null   int64  \n",
      " 3   koi_fpflag_co      6991 non-null   int64  \n",
      " 4   koi_fpflag_ec      6991 non-null   int64  \n",
      " 5   koi_period         6991 non-null   float64\n",
      " 6   koi_period_err1    6991 non-null   float64\n",
      " 7   koi_period_err2    6991 non-null   float64\n",
      " 8   koi_time0bk        6991 non-null   float64\n",
      " 9   koi_time0bk_err1   6991 non-null   float64\n",
      " 10  koi_time0bk_err2   6991 non-null   float64\n",
      " 11  koi_impact         6991 non-null   float64\n",
      " 12  koi_impact_err1    6991 non-null   float64\n",
      " 13  koi_impact_err2    6991 non-null   float64\n",
      " 14  koi_duration       6991 non-null   float64\n",
      " 15  koi_duration_err1  6991 non-null   float64\n",
      " 16  koi_duration_err2  6991 non-null   float64\n",
      " 17  koi_depth          6991 non-null   float64\n",
      " 18  koi_depth_err1     6991 non-null   float64\n",
      " 19  koi_depth_err2     6991 non-null   float64\n",
      " 20  koi_prad           6991 non-null   float64\n",
      " 21  koi_prad_err1      6991 non-null   float64\n",
      " 22  koi_prad_err2      6991 non-null   float64\n",
      " 23  koi_teq            6991 non-null   int64  \n",
      " 24  koi_insol          6991 non-null   float64\n",
      " 25  koi_insol_err1     6991 non-null   float64\n",
      " 26  koi_insol_err2     6991 non-null   float64\n",
      " 27  koi_model_snr      6991 non-null   float64\n",
      " 28  koi_tce_plnt_num   6991 non-null   int64  \n",
      " 29  koi_steff          6991 non-null   int64  \n",
      " 30  koi_steff_err1     6991 non-null   int64  \n",
      " 31  koi_steff_err2     6991 non-null   int64  \n",
      " 32  koi_slogg          6991 non-null   float64\n",
      " 33  koi_slogg_err1     6991 non-null   float64\n",
      " 34  koi_slogg_err2     6991 non-null   float64\n",
      " 35  koi_srad           6991 non-null   float64\n",
      " 36  koi_srad_err1      6991 non-null   float64\n",
      " 37  koi_srad_err2      6991 non-null   float64\n",
      " 38  ra                 6991 non-null   float64\n",
      " 39  dec                6991 non-null   float64\n",
      " 40  koi_kepmag         6991 non-null   float64\n",
      "dtypes: float64(31), int64(9), object(1)\n",
      "memory usage: 2.2+ MB\n"
     ]
    },
    {
     "data": {
      "text/plain": [
       "['koi_disposition',\n",
       " 'koi_fpflag_nt',\n",
       " 'koi_fpflag_ss',\n",
       " 'koi_fpflag_co',\n",
       " 'koi_fpflag_ec',\n",
       " 'koi_period',\n",
       " 'koi_period_err1',\n",
       " 'koi_period_err2',\n",
       " 'koi_time0bk',\n",
       " 'koi_time0bk_err1',\n",
       " 'koi_time0bk_err2',\n",
       " 'koi_impact',\n",
       " 'koi_impact_err1',\n",
       " 'koi_impact_err2',\n",
       " 'koi_duration',\n",
       " 'koi_duration_err1',\n",
       " 'koi_duration_err2',\n",
       " 'koi_depth',\n",
       " 'koi_depth_err1',\n",
       " 'koi_depth_err2',\n",
       " 'koi_prad',\n",
       " 'koi_prad_err1',\n",
       " 'koi_prad_err2',\n",
       " 'koi_teq',\n",
       " 'koi_insol',\n",
       " 'koi_insol_err1',\n",
       " 'koi_insol_err2',\n",
       " 'koi_model_snr',\n",
       " 'koi_tce_plnt_num',\n",
       " 'koi_steff',\n",
       " 'koi_steff_err1',\n",
       " 'koi_steff_err2',\n",
       " 'koi_slogg',\n",
       " 'koi_slogg_err1',\n",
       " 'koi_slogg_err2',\n",
       " 'koi_srad',\n",
       " 'koi_srad_err1',\n",
       " 'koi_srad_err2',\n",
       " 'ra',\n",
       " 'dec',\n",
       " 'koi_kepmag']"
      ]
     },
     "execution_count": 7,
     "metadata": {},
     "output_type": "execute_result"
    }
   ],
   "source": [
    "# Exploratory data analysis\n",
    "\n",
    "df.info()\n",
    "list(df.columns)\n"
   ]
  },
  {
   "cell_type": "code",
   "execution_count": 8,
   "metadata": {},
   "outputs": [
    {
     "name": "stdout",
     "output_type": "stream",
     "text": [
      "(6991, 40) (6991,)\n"
     ]
    }
   ],
   "source": [
    "X = df.drop(\"koi_disposition\", axis=1)\n",
    "y = df[\"koi_disposition\"]\n",
    "print(X.shape, y.shape)"
   ]
  },
  {
   "cell_type": "code",
   "execution_count": 9,
   "metadata": {
    "scrolled": true
   },
   "outputs": [
    {
     "data": {
      "image/png": "[encoded data removed]",
      "text/plain": [
       "<Figure size 1080x720 with 2 Axes>"
      ]
     },
     "metadata": {
      "needs_background": "light"
     },
     "output_type": "display_data"
    }
   ],
   "source": [
    "import seaborn as sns\n",
    "\n",
    "#Correlation heatmap\n",
    "#Correlation matrix = X.corr()\n",
    "\n",
    "plt.figure(figsize=(15,10)) \n",
    "mask = np.triu(np.ones_like(X.corr(), dtype=np.bool))\n",
    "heatmap = sns.heatmap(X.corr(), mask=mask, vmin=-1, vmax=1, cmap='YlGnBu')\n",
    "plt.savefig(\"../Images/heatmap1.png\")"
   ]
  },
  {
   "cell_type": "code",
   "execution_count": 10,
   "metadata": {},
   "outputs": [
    {
     "data": {
      "image/png": "[encoded data removed]",
      "text/plain": [
       "<Figure size 1080x1440 with 42 Axes>"
      ]
     },
     "metadata": {
      "needs_background": "light"
     },
     "output_type": "display_data"
    }
   ],
   "source": [
    "X.hist(figsize=(15,20), color=\"magenta\", grid=False)\n",
    "plt.savefig(\"../Images/Xhist.png\")"
   ]
  },
  {
   "cell_type": "code",
   "execution_count": 11,
   "metadata": {},
   "outputs": [
    {
     "data": {
      "image/png": "[encoded data removed]",
      "text/plain": [
       "<Figure size 360x720 with 1 Axes>"
      ]
     },
     "metadata": {
      "needs_background": "light"
     },
     "output_type": "display_data"
    }
   ],
   "source": [
    "y.hist(figsize=(5,10), color=\"green\")\n",
    "plt.savefig(\"../Images/yhist.png\")"
   ]
  },
  {
   "cell_type": "code",
   "execution_count": 12,
   "metadata": {},
   "outputs": [
    {
     "data": {
      "text/html": [
       "<div>\n",
       "<style scoped>\n",
       "    .dataframe tbody tr th:only-of-type {\n",
       "        vertical-align: middle;\n",
       "    }\n",
       "\n",
       "    .dataframe tbody tr th {\n",
       "        vertical-align: top;\n",
       "    }\n",
       "\n",
       "    .dataframe thead th {\n",
       "        text-align: right;\n",
       "    }\n",
       "</style>\n",
       "<table border=\"1\" class=\"dataframe\">\n",
       "  <thead>\n",
       "    <tr style=\"text-align: right;\">\n",
       "      <th></th>\n",
       "      <th>feature</th>\n",
       "      <th>Importance</th>\n",
       "    </tr>\n",
       "  </thead>\n",
       "  <tbody>\n",
       "    <tr>\n",
       "      <th>2</th>\n",
       "      <td>koi_fpflag_co</td>\n",
       "      <td>0.112968</td>\n",
       "    </tr>\n",
       "    <tr>\n",
       "      <th>0</th>\n",
       "      <td>koi_fpflag_nt</td>\n",
       "      <td>0.098540</td>\n",
       "    </tr>\n",
       "    <tr>\n",
       "      <th>1</th>\n",
       "      <td>koi_fpflag_ss</td>\n",
       "      <td>0.072320</td>\n",
       "    </tr>\n",
       "    <tr>\n",
       "      <th>26</th>\n",
       "      <td>koi_model_snr</td>\n",
       "      <td>0.055638</td>\n",
       "    </tr>\n",
       "    <tr>\n",
       "      <th>19</th>\n",
       "      <td>koi_prad</td>\n",
       "      <td>0.046287</td>\n",
       "    </tr>\n",
       "    <tr>\n",
       "      <th>20</th>\n",
       "      <td>koi_prad_err1</td>\n",
       "      <td>0.036003</td>\n",
       "    </tr>\n",
       "    <tr>\n",
       "      <th>14</th>\n",
       "      <td>koi_duration_err1</td>\n",
       "      <td>0.033081</td>\n",
       "    </tr>\n",
       "    <tr>\n",
       "      <th>15</th>\n",
       "      <td>koi_duration_err2</td>\n",
       "      <td>0.032963</td>\n",
       "    </tr>\n",
       "    <tr>\n",
       "      <th>3</th>\n",
       "      <td>koi_fpflag_ec</td>\n",
       "      <td>0.031941</td>\n",
       "    </tr>\n",
       "    <tr>\n",
       "      <th>29</th>\n",
       "      <td>koi_steff_err1</td>\n",
       "      <td>0.031104</td>\n",
       "    </tr>\n",
       "    <tr>\n",
       "      <th>21</th>\n",
       "      <td>koi_prad_err2</td>\n",
       "      <td>0.028835</td>\n",
       "    </tr>\n",
       "    <tr>\n",
       "      <th>8</th>\n",
       "      <td>koi_time0bk_err1</td>\n",
       "      <td>0.025875</td>\n",
       "    </tr>\n",
       "    <tr>\n",
       "      <th>13</th>\n",
       "      <td>koi_duration</td>\n",
       "      <td>0.024783</td>\n",
       "    </tr>\n",
       "    <tr>\n",
       "      <th>9</th>\n",
       "      <td>koi_time0bk_err2</td>\n",
       "      <td>0.022300</td>\n",
       "    </tr>\n",
       "    <tr>\n",
       "      <th>30</th>\n",
       "      <td>koi_steff_err2</td>\n",
       "      <td>0.021004</td>\n",
       "    </tr>\n",
       "    <tr>\n",
       "      <th>16</th>\n",
       "      <td>koi_depth</td>\n",
       "      <td>0.020906</td>\n",
       "    </tr>\n",
       "    <tr>\n",
       "      <th>4</th>\n",
       "      <td>koi_period</td>\n",
       "      <td>0.019431</td>\n",
       "    </tr>\n",
       "    <tr>\n",
       "      <th>24</th>\n",
       "      <td>koi_insol_err1</td>\n",
       "      <td>0.018308</td>\n",
       "    </tr>\n",
       "    <tr>\n",
       "      <th>5</th>\n",
       "      <td>koi_period_err1</td>\n",
       "      <td>0.017868</td>\n",
       "    </tr>\n",
       "    <tr>\n",
       "      <th>6</th>\n",
       "      <td>koi_period_err2</td>\n",
       "      <td>0.017670</td>\n",
       "    </tr>\n",
       "    <tr>\n",
       "      <th>10</th>\n",
       "      <td>koi_impact</td>\n",
       "      <td>0.017301</td>\n",
       "    </tr>\n",
       "    <tr>\n",
       "      <th>22</th>\n",
       "      <td>koi_teq</td>\n",
       "      <td>0.016516</td>\n",
       "    </tr>\n",
       "    <tr>\n",
       "      <th>23</th>\n",
       "      <td>koi_insol</td>\n",
       "      <td>0.014999</td>\n",
       "    </tr>\n",
       "    <tr>\n",
       "      <th>7</th>\n",
       "      <td>koi_time0bk</td>\n",
       "      <td>0.014403</td>\n",
       "    </tr>\n",
       "    <tr>\n",
       "      <th>17</th>\n",
       "      <td>koi_depth_err1</td>\n",
       "      <td>0.014331</td>\n",
       "    </tr>\n",
       "    <tr>\n",
       "      <th>25</th>\n",
       "      <td>koi_insol_err2</td>\n",
       "      <td>0.014242</td>\n",
       "    </tr>\n",
       "    <tr>\n",
       "      <th>35</th>\n",
       "      <td>koi_srad_err1</td>\n",
       "      <td>0.012928</td>\n",
       "    </tr>\n",
       "    <tr>\n",
       "      <th>18</th>\n",
       "      <td>koi_depth_err2</td>\n",
       "      <td>0.012859</td>\n",
       "    </tr>\n",
       "    <tr>\n",
       "      <th>37</th>\n",
       "      <td>ra</td>\n",
       "      <td>0.011981</td>\n",
       "    </tr>\n",
       "    <tr>\n",
       "      <th>11</th>\n",
       "      <td>koi_impact_err1</td>\n",
       "      <td>0.011038</td>\n",
       "    </tr>\n",
       "    <tr>\n",
       "      <th>39</th>\n",
       "      <td>koi_kepmag</td>\n",
       "      <td>0.010717</td>\n",
       "    </tr>\n",
       "    <tr>\n",
       "      <th>33</th>\n",
       "      <td>koi_slogg_err2</td>\n",
       "      <td>0.010645</td>\n",
       "    </tr>\n",
       "    <tr>\n",
       "      <th>38</th>\n",
       "      <td>dec</td>\n",
       "      <td>0.010523</td>\n",
       "    </tr>\n",
       "    <tr>\n",
       "      <th>12</th>\n",
       "      <td>koi_impact_err2</td>\n",
       "      <td>0.010395</td>\n",
       "    </tr>\n",
       "    <tr>\n",
       "      <th>34</th>\n",
       "      <td>koi_srad</td>\n",
       "      <td>0.009842</td>\n",
       "    </tr>\n",
       "    <tr>\n",
       "      <th>28</th>\n",
       "      <td>koi_steff</td>\n",
       "      <td>0.009637</td>\n",
       "    </tr>\n",
       "    <tr>\n",
       "      <th>31</th>\n",
       "      <td>koi_slogg</td>\n",
       "      <td>0.009293</td>\n",
       "    </tr>\n",
       "    <tr>\n",
       "      <th>36</th>\n",
       "      <td>koi_srad_err2</td>\n",
       "      <td>0.008850</td>\n",
       "    </tr>\n",
       "    <tr>\n",
       "      <th>32</th>\n",
       "      <td>koi_slogg_err1</td>\n",
       "      <td>0.008383</td>\n",
       "    </tr>\n",
       "    <tr>\n",
       "      <th>27</th>\n",
       "      <td>koi_tce_plnt_num</td>\n",
       "      <td>0.003292</td>\n",
       "    </tr>\n",
       "  </tbody>\n",
       "</table>\n",
       "</div>"
      ],
      "text/plain": [
       "              feature  Importance\n",
       "2       koi_fpflag_co    0.112968\n",
       "0       koi_fpflag_nt    0.098540\n",
       "1       koi_fpflag_ss    0.072320\n",
       "26      koi_model_snr    0.055638\n",
       "19           koi_prad    0.046287\n",
       "20      koi_prad_err1    0.036003\n",
       "14  koi_duration_err1    0.033081\n",
       "15  koi_duration_err2    0.032963\n",
       "3       koi_fpflag_ec    0.031941\n",
       "29     koi_steff_err1    0.031104\n",
       "21      koi_prad_err2    0.028835\n",
       "8    koi_time0bk_err1    0.025875\n",
       "13       koi_duration    0.024783\n",
       "9    koi_time0bk_err2    0.022300\n",
       "30     koi_steff_err2    0.021004\n",
       "16          koi_depth    0.020906\n",
       "4          koi_period    0.019431\n",
       "24     koi_insol_err1    0.018308\n",
       "5     koi_period_err1    0.017868\n",
       "6     koi_period_err2    0.017670\n",
       "10         koi_impact    0.017301\n",
       "22            koi_teq    0.016516\n",
       "23          koi_insol    0.014999\n",
       "7         koi_time0bk    0.014403\n",
       "17     koi_depth_err1    0.014331\n",
       "25     koi_insol_err2    0.014242\n",
       "35      koi_srad_err1    0.012928\n",
       "18     koi_depth_err2    0.012859\n",
       "37                 ra    0.011981\n",
       "11    koi_impact_err1    0.011038\n",
       "39         koi_kepmag    0.010717\n",
       "33     koi_slogg_err2    0.010645\n",
       "38                dec    0.010523\n",
       "12    koi_impact_err2    0.010395\n",
       "34           koi_srad    0.009842\n",
       "28          koi_steff    0.009637\n",
       "31          koi_slogg    0.009293\n",
       "36      koi_srad_err2    0.008850\n",
       "32     koi_slogg_err1    0.008383\n",
       "27   koi_tce_plnt_num    0.003292"
      ]
     },
     "execution_count": 12,
     "metadata": {},
     "output_type": "execute_result"
    }
   ],
   "source": [
    "\n",
    "model = RandomForestClassifier().fit(X,y)\n",
    "important_df = pd.DataFrame({\"feature\": X.columns, \\\n",
    "                           \"Importance\": model.feature_importances_})\n",
    "important_sort = important_df.sort_values(\"Importance\", ascending=False)\n",
    "important_sort"
   ]
  },
  {
   "cell_type": "code",
   "execution_count": 13,
   "metadata": {},
   "outputs": [],
   "source": [
    "import dataframe_image as dfi\n",
    "dfi.export(important_sort, '../Images/important_sort.png')"
   ]
  },
  {
   "cell_type": "code",
   "execution_count": 14,
   "metadata": {},
   "outputs": [
    {
     "name": "stdout",
     "output_type": "stream",
     "text": [
      "['koi_fpflag_co', 'koi_fpflag_nt', 'koi_fpflag_ss', 'koi_model_snr', 'koi_prad', 'koi_prad_err1', 'koi_duration_err1', 'koi_duration_err2', 'koi_fpflag_ec', 'koi_steff_err1', 'koi_prad_err2', 'koi_time0bk_err1', 'koi_duration', 'koi_time0bk_err2', 'koi_steff_err2', 'koi_depth', 'koi_period', 'koi_insol_err1', 'koi_period_err1', 'koi_period_err2', 'koi_impact', 'koi_teq', 'koi_insol', 'koi_time0bk', 'koi_depth_err1', 'koi_insol_err2', 'koi_srad_err1', 'koi_depth_err2', 'ra', 'koi_impact_err1', 'koi_kepmag', 'koi_slogg_err2', 'dec', 'koi_impact_err2', 'koi_srad', 'koi_steff', 'koi_slogg', 'koi_srad_err2', 'koi_slogg_err1', 'koi_tce_plnt_num']\n"
     ]
    }
   ],
   "source": [
    "\n",
    "col_one_list = important_df.sort_values(\"Importance\", ascending=False)['feature'].tolist()\n",
    "print(col_one_list)"
   ]
  },
  {
   "cell_type": "markdown",
   "metadata": {},
   "source": [
    "# Select your features (columns)"
   ]
  },
  {
   "cell_type": "code",
   "execution_count": 15,
   "metadata": {
    "ExecuteTime": {
     "end_time": "2020-10-04T23:55:12.444363Z",
     "start_time": "2020-10-04T23:55:12.441971Z"
    }
   },
   "outputs": [
    {
     "data": {
      "text/plain": [
       "array([1, 2, 2, ..., 0, 2, 2])"
      ]
     },
     "execution_count": 15,
     "metadata": {},
     "output_type": "execute_result"
    }
   ],
   "source": [
    "# Set your y to be poi-disposition and your X to be all other columns\n",
    "label_encoder = LabelEncoder()\n",
    "label_encoder.fit(y)\n",
    "encoded_y = label_encoder.transform(y)\n",
    "encoded_y"
   ]
  },
  {
   "cell_type": "code",
   "execution_count": 16,
   "metadata": {},
   "outputs": [],
   "source": [
    "# Drop *unimportant, irrelevant, or duplicate columns\n",
    "#last min keep 'koi_fpflag_ec', 'koi_duration',  koi_depth', \n",
    "\n",
    "X = X.drop(columns=['koi_fpflag_ec','koi_period','koi_time0bk_err2',\n",
    "                    'koi_time0bk_err1', \n",
    "                    'koi_steff_err2', \n",
    "                    'koi_insol_err1',\n",
    "                    'koi_depth',\n",
    "                    'koi_teq', \n",
    "                    'koi_impact', \n",
    "                    'koi_period_err1', \n",
    "                    'koi_period_err2', \n",
    "                    'koi_insol', \n",
    "                    'koi_time0bk', \n",
    "                    'koi_depth_err2', \n",
    "                    'ra', \n",
    "                    'koi_depth_err1', \n",
    "                    'koi_insol_err2', \n",
    "                    'dec', \n",
    "                    'koi_impact_err1', \n",
    "                    'koi_kepmag', \n",
    "                    'koi_impact_err2', \n",
    "                    'koi_slogg_err2', \n",
    "                    'koi_srad_err1', \n",
    "                    'koi_slogg', \n",
    "                    'koi_steff', 'koi_srad', 'koi_slogg_err1', 'koi_srad_err2', 'koi_tce_plnt_num', \n",
    "                    'koi_duration_err1', 'koi_duration_err2', 'koi_prad_err2', 'koi_steff_err1', 'koi_prad_err1'])"
   ]
  },
  {
   "cell_type": "code",
   "execution_count": 17,
   "metadata": {},
   "outputs": [
    {
     "data": {
      "image/png": "[encoded data removed]",
      "text/plain": [
       "<Figure size 1080x720 with 2 Axes>"
      ]
     },
     "metadata": {
      "needs_background": "light"
     },
     "output_type": "display_data"
    }
   ],
   "source": [
    "plt.figure(figsize=(15,10)) \n",
    "mask = np.triu(np.ones_like(X.corr(), dtype=np.bool))\n",
    "heatmap = sns.heatmap(X.corr(), mask=mask, vmin=-1, vmax=1, cmap='YlGnBu')\n",
    "plt.savefig(\"../Images/heatmap2.png\")"
   ]
  },
  {
   "cell_type": "code",
   "execution_count": 18,
   "metadata": {},
   "outputs": [],
   "source": [
    "#X= X.drop(columns= \"koi_prad_err1\")"
   ]
  },
  {
   "cell_type": "markdown",
   "metadata": {},
   "source": [
    "# Create a Train Test Split\n"
   ]
  },
  {
   "cell_type": "code",
   "execution_count": 19,
   "metadata": {
    "ExecuteTime": {
     "end_time": "2020-10-04T23:49:46.004847Z",
     "start_time": "2020-10-04T23:49:38.636Z"
    }
   },
   "outputs": [
    {
     "data": {
      "text/html": [
       "<div>\n",
       "<style scoped>\n",
       "    .dataframe tbody tr th:only-of-type {\n",
       "        vertical-align: middle;\n",
       "    }\n",
       "\n",
       "    .dataframe tbody tr th {\n",
       "        vertical-align: top;\n",
       "    }\n",
       "\n",
       "    .dataframe thead th {\n",
       "        text-align: right;\n",
       "    }\n",
       "</style>\n",
       "<table border=\"1\" class=\"dataframe\">\n",
       "  <thead>\n",
       "    <tr style=\"text-align: right;\">\n",
       "      <th></th>\n",
       "      <th>koi_fpflag_nt</th>\n",
       "      <th>koi_fpflag_ss</th>\n",
       "      <th>koi_fpflag_co</th>\n",
       "      <th>koi_duration</th>\n",
       "      <th>koi_prad</th>\n",
       "      <th>koi_model_snr</th>\n",
       "    </tr>\n",
       "  </thead>\n",
       "  <tbody>\n",
       "    <tr>\n",
       "      <th>6122</th>\n",
       "      <td>0</td>\n",
       "      <td>0</td>\n",
       "      <td>0</td>\n",
       "      <td>3.61600</td>\n",
       "      <td>1.24</td>\n",
       "      <td>10.8</td>\n",
       "    </tr>\n",
       "    <tr>\n",
       "      <th>6370</th>\n",
       "      <td>0</td>\n",
       "      <td>1</td>\n",
       "      <td>0</td>\n",
       "      <td>2.30900</td>\n",
       "      <td>0.86</td>\n",
       "      <td>13.8</td>\n",
       "    </tr>\n",
       "    <tr>\n",
       "      <th>2879</th>\n",
       "      <td>1</td>\n",
       "      <td>0</td>\n",
       "      <td>0</td>\n",
       "      <td>79.89690</td>\n",
       "      <td>3.21</td>\n",
       "      <td>254.3</td>\n",
       "    </tr>\n",
       "    <tr>\n",
       "      <th>107</th>\n",
       "      <td>0</td>\n",
       "      <td>0</td>\n",
       "      <td>0</td>\n",
       "      <td>2.63120</td>\n",
       "      <td>2.25</td>\n",
       "      <td>38.4</td>\n",
       "    </tr>\n",
       "    <tr>\n",
       "      <th>29</th>\n",
       "      <td>0</td>\n",
       "      <td>0</td>\n",
       "      <td>0</td>\n",
       "      <td>2.22739</td>\n",
       "      <td>12.21</td>\n",
       "      <td>696.5</td>\n",
       "    </tr>\n",
       "    <tr>\n",
       "      <th>...</th>\n",
       "      <td>...</td>\n",
       "      <td>...</td>\n",
       "      <td>...</td>\n",
       "      <td>...</td>\n",
       "      <td>...</td>\n",
       "      <td>...</td>\n",
       "    </tr>\n",
       "    <tr>\n",
       "      <th>3772</th>\n",
       "      <td>0</td>\n",
       "      <td>1</td>\n",
       "      <td>0</td>\n",
       "      <td>3.47103</td>\n",
       "      <td>50.31</td>\n",
       "      <td>1320.5</td>\n",
       "    </tr>\n",
       "    <tr>\n",
       "      <th>5191</th>\n",
       "      <td>0</td>\n",
       "      <td>0</td>\n",
       "      <td>0</td>\n",
       "      <td>5.19500</td>\n",
       "      <td>1.97</td>\n",
       "      <td>13.4</td>\n",
       "    </tr>\n",
       "    <tr>\n",
       "      <th>5226</th>\n",
       "      <td>0</td>\n",
       "      <td>1</td>\n",
       "      <td>0</td>\n",
       "      <td>1.68923</td>\n",
       "      <td>100.03</td>\n",
       "      <td>471.0</td>\n",
       "    </tr>\n",
       "    <tr>\n",
       "      <th>5390</th>\n",
       "      <td>1</td>\n",
       "      <td>0</td>\n",
       "      <td>0</td>\n",
       "      <td>27.29000</td>\n",
       "      <td>64.00</td>\n",
       "      <td>79.5</td>\n",
       "    </tr>\n",
       "    <tr>\n",
       "      <th>860</th>\n",
       "      <td>0</td>\n",
       "      <td>0</td>\n",
       "      <td>1</td>\n",
       "      <td>5.38300</td>\n",
       "      <td>1.12</td>\n",
       "      <td>36.8</td>\n",
       "    </tr>\n",
       "  </tbody>\n",
       "</table>\n",
       "<p>5243 rows × 6 columns</p>\n",
       "</div>"
      ],
      "text/plain": [
       "      koi_fpflag_nt  koi_fpflag_ss  koi_fpflag_co  koi_duration  koi_prad  \\\n",
       "6122              0              0              0       3.61600      1.24   \n",
       "6370              0              1              0       2.30900      0.86   \n",
       "2879              1              0              0      79.89690      3.21   \n",
       "107               0              0              0       2.63120      2.25   \n",
       "29                0              0              0       2.22739     12.21   \n",
       "...             ...            ...            ...           ...       ...   \n",
       "3772              0              1              0       3.47103     50.31   \n",
       "5191              0              0              0       5.19500      1.97   \n",
       "5226              0              1              0       1.68923    100.03   \n",
       "5390              1              0              0      27.29000     64.00   \n",
       "860               0              0              1       5.38300      1.12   \n",
       "\n",
       "      koi_model_snr  \n",
       "6122           10.8  \n",
       "6370           13.8  \n",
       "2879          254.3  \n",
       "107            38.4  \n",
       "29            696.5  \n",
       "...             ...  \n",
       "3772         1320.5  \n",
       "5191           13.4  \n",
       "5226          471.0  \n",
       "5390           79.5  \n",
       "860            36.8  \n",
       "\n",
       "[5243 rows x 6 columns]"
      ]
     },
     "execution_count": 19,
     "metadata": {},
     "output_type": "execute_result"
    }
   ],
   "source": [
    "\n",
    "target = df[\"koi_disposition\"]\n",
    "\n",
    "X_train, X_test, y_train, y_test = train_test_split(X, target, random_state=42)\n",
    "\n",
    "X_train"
   ]
  },
  {
   "cell_type": "markdown",
   "metadata": {},
   "source": [
    "# Pre-processing"
   ]
  },
  {
   "cell_type": "code",
   "execution_count": 20,
   "metadata": {
    "ExecuteTime": {
     "end_time": "2020-10-04T23:49:46.006401Z",
     "start_time": "2020-10-04T23:49:38.638Z"
    }
   },
   "outputs": [],
   "source": [
    "# Scale your data using appropriate scaler\n",
    "\n",
    "\n",
    "\n",
    "from sklearn.preprocessing import StandardScaler\n",
    "X_scaler = StandardScaler().fit(X_train)\n",
    "X_train_scaled = X_scaler.transform(X_train)\n",
    "X_test_scaled = X_scaler.transform(X_test)\n",
    "\n",
    "\n"
   ]
  },
  {
   "cell_type": "markdown",
   "metadata": {},
   "source": [
    "# Train various  models\n",
    "\n"
   ]
  },
  {
   "cell_type": "markdown",
   "metadata": {},
   "source": [
    "## Model 1"
   ]
  },
  {
   "cell_type": "code",
   "execution_count": 21,
   "metadata": {},
   "outputs": [],
   "source": [
    "# Instantiate model 1 (e.g., logistic model)\n",
    "\n",
    "model = SVC()\n",
    "#model = SVC(kernel='linear')\n",
    "#model.fit(X_test, y_test)\n",
    "\n",
    "\n",
    "# Fit model using GridSearchCV if it makes sense\n",
    "param_grid = {'C': [1, 5, 10],\n",
    "              'kernel': ('linear', 'rbf')}\n",
    "grid = GridSearchCV(model, param_grid, verbose=3)"
   ]
  },
  {
   "cell_type": "code",
   "execution_count": 22,
   "metadata": {
    "ExecuteTime": {
     "end_time": "2020-10-04T23:49:46.007823Z",
     "start_time": "2020-10-04T23:49:38.640Z"
    },
    "scrolled": true
   },
   "outputs": [
    {
     "name": "stdout",
     "output_type": "stream",
     "text": [
      "Fitting 5 folds for each of 6 candidates, totalling 30 fits\n",
      "[CV] C=1, kernel=linear ..............................................\n",
      "[CV] .................. C=1, kernel=linear, score=0.761, total=   0.1s\n",
      "[CV] C=1, kernel=linear ..............................................\n"
     ]
    },
    {
     "name": "stderr",
     "output_type": "stream",
     "text": [
      "[Parallel(n_jobs=1)]: Using backend SequentialBackend with 1 concurrent workers.\n",
      "[Parallel(n_jobs=1)]: Done   1 out of   1 | elapsed:    0.1s remaining:    0.0s\n"
     ]
    },
    {
     "name": "stdout",
     "output_type": "stream",
     "text": [
      "[CV] .................. C=1, kernel=linear, score=0.738, total=   0.1s\n",
      "[CV] C=1, kernel=linear ..............................................\n",
      "[CV] .................. C=1, kernel=linear, score=0.775, total=   0.1s\n",
      "[CV] C=1, kernel=linear ..............................................\n"
     ]
    },
    {
     "name": "stderr",
     "output_type": "stream",
     "text": [
      "[Parallel(n_jobs=1)]: Done   2 out of   2 | elapsed:    0.3s remaining:    0.0s\n"
     ]
    },
    {
     "name": "stdout",
     "output_type": "stream",
     "text": [
      "[CV] .................. C=1, kernel=linear, score=0.770, total=   0.1s\n",
      "[CV] C=1, kernel=linear ..............................................\n",
      "[CV] .................. C=1, kernel=linear, score=0.782, total=   0.1s\n",
      "[CV] C=1, kernel=rbf .................................................\n",
      "[CV] ..................... C=1, kernel=rbf, score=0.774, total=   0.2s\n",
      "[CV] C=1, kernel=rbf .................................................\n",
      "[CV] ..................... C=1, kernel=rbf, score=0.780, total=   0.2s\n",
      "[CV] C=1, kernel=rbf .................................................\n",
      "[CV] ..................... C=1, kernel=rbf, score=0.779, total=   0.2s\n",
      "[CV] C=1, kernel=rbf .................................................\n",
      "[CV] ..................... C=1, kernel=rbf, score=0.782, total=   0.2s\n",
      "[CV] C=1, kernel=rbf .................................................\n",
      "[CV] ..................... C=1, kernel=rbf, score=0.773, total=   0.2s\n",
      "[CV] C=5, kernel=linear ..............................................\n",
      "[CV] .................. C=5, kernel=linear, score=0.782, total=   0.1s\n",
      "[CV] C=5, kernel=linear ..............................................\n",
      "[CV] .................. C=5, kernel=linear, score=0.739, total=   0.1s\n",
      "[CV] C=5, kernel=linear ..............................................\n",
      "[CV] .................. C=5, kernel=linear, score=0.765, total=   0.1s\n",
      "[CV] C=5, kernel=linear ..............................................\n",
      "[CV] .................. C=5, kernel=linear, score=0.753, total=   0.2s\n",
      "[CV] C=5, kernel=linear ..............................................\n",
      "[CV] .................. C=5, kernel=linear, score=0.765, total=   0.1s\n",
      "[CV] C=5, kernel=rbf .................................................\n",
      "[CV] ..................... C=5, kernel=rbf, score=0.796, total=   0.3s\n",
      "[CV] C=5, kernel=rbf .................................................\n",
      "[CV] ..................... C=5, kernel=rbf, score=0.795, total=   0.3s\n",
      "[CV] C=5, kernel=rbf .................................................\n",
      "[CV] ..................... C=5, kernel=rbf, score=0.789, total=   0.3s\n",
      "[CV] C=5, kernel=rbf .................................................\n",
      "[CV] ..................... C=5, kernel=rbf, score=0.789, total=   0.3s\n",
      "[CV] C=5, kernel=rbf .................................................\n",
      "[CV] ..................... C=5, kernel=rbf, score=0.789, total=   0.3s\n",
      "[CV] C=10, kernel=linear .............................................\n",
      "[CV] ................. C=10, kernel=linear, score=0.766, total=   0.1s\n",
      "[CV] C=10, kernel=linear .............................................\n",
      "[CV] ................. C=10, kernel=linear, score=0.738, total=   0.2s\n",
      "[CV] C=10, kernel=linear .............................................\n",
      "[CV] ................. C=10, kernel=linear, score=0.768, total=   0.1s\n",
      "[CV] C=10, kernel=linear .............................................\n",
      "[CV] ................. C=10, kernel=linear, score=0.753, total=   0.2s\n",
      "[CV] C=10, kernel=linear .............................................\n",
      "[CV] ................. C=10, kernel=linear, score=0.763, total=   0.2s\n",
      "[CV] C=10, kernel=rbf ................................................\n",
      "[CV] .................... C=10, kernel=rbf, score=0.800, total=   0.3s\n",
      "[CV] C=10, kernel=rbf ................................................\n",
      "[CV] .................... C=10, kernel=rbf, score=0.811, total=   0.3s\n",
      "[CV] C=10, kernel=rbf ................................................\n",
      "[CV] .................... C=10, kernel=rbf, score=0.800, total=   0.3s\n",
      "[CV] C=10, kernel=rbf ................................................\n",
      "[CV] .................... C=10, kernel=rbf, score=0.802, total=   0.3s\n",
      "[CV] C=10, kernel=rbf ................................................\n",
      "[CV] .................... C=10, kernel=rbf, score=0.814, total=   0.3s\n"
     ]
    },
    {
     "name": "stderr",
     "output_type": "stream",
     "text": [
      "[Parallel(n_jobs=1)]: Done  30 out of  30 | elapsed:    6.2s finished\n"
     ]
    },
    {
     "data": {
      "text/plain": [
       "GridSearchCV(estimator=SVC(),\n",
       "             param_grid={'C': [1, 5, 10], 'kernel': ('linear', 'rbf')},\n",
       "             verbose=3)"
      ]
     },
     "execution_count": 22,
     "metadata": {},
     "output_type": "execute_result"
    }
   ],
   "source": [
    "# Look at model evalauation metrics - there are more options than just score\n",
    "grid.fit(X_train_scaled, y_train)\n",
    "#print('Test Acc: %.3f' % model.score(X_test, y_test))"
   ]
  },
  {
   "cell_type": "code",
   "execution_count": 23,
   "metadata": {},
   "outputs": [
    {
     "name": "stdout",
     "output_type": "stream",
     "text": [
      "                precision    recall  f1-score   support\n",
      "\n",
      "     CANDIDATE       0.61      0.68      0.64       411\n",
      "     CONFIRMED       0.70      0.64      0.67       484\n",
      "FALSE POSITIVE       0.98      0.97      0.97       853\n",
      "\n",
      "      accuracy                           0.81      1748\n",
      "     macro avg       0.76      0.76      0.76      1748\n",
      "  weighted avg       0.81      0.81      0.81      1748\n",
      "\n"
     ]
    }
   ],
   "source": [
    "from sklearn.metrics import classification_report\n",
    "predictions = grid.predict(X_test_scaled)\n",
    "print(classification_report(y_test, predictions,))"
   ]
  },
  {
   "cell_type": "markdown",
   "metadata": {},
   "source": [
    "## Model 2"
   ]
  },
  {
   "cell_type": "code",
   "execution_count": 24,
   "metadata": {
    "ExecuteTime": {
     "end_time": "2020-10-04T23:49:46.010151Z",
     "start_time": "2020-10-04T23:49:38.643Z"
    }
   },
   "outputs": [],
   "source": [
    "# Instantiate model 2 (e.g., random forest model)\n",
    "\n",
    "model = RandomForestClassifier(n_estimators=500).fit(X_train_scaled, y_train)\n",
    "\n",
    "\n",
    "\n"
   ]
  },
  {
   "cell_type": "code",
   "execution_count": 25,
   "metadata": {},
   "outputs": [
    {
     "name": "stdout",
     "output_type": "stream",
     "text": [
      "                precision    recall  f1-score   support\n",
      "\n",
      "     CANDIDATE       0.78      0.74      0.76       411\n",
      "     CONFIRMED       0.79      0.84      0.82       484\n",
      "FALSE POSITIVE       0.98      0.97      0.97       853\n",
      "\n",
      "      accuracy                           0.88      1748\n",
      "     macro avg       0.85      0.85      0.85      1748\n",
      "  weighted avg       0.88      0.88      0.88      1748\n",
      "\n"
     ]
    }
   ],
   "source": [
    "predictions = model.predict(X_test_scaled)\n",
    "print(classification_report(y_test, predictions,))"
   ]
  },
  {
   "cell_type": "code",
   "execution_count": 26,
   "metadata": {},
   "outputs": [
    {
     "name": "stdout",
     "output_type": "stream",
     "text": [
      "                precision    recall  f1-score   support\n",
      "\n",
      "     CANDIDATE       0.68      0.68      0.68       411\n",
      "     CONFIRMED       0.73      0.73      0.73       484\n",
      "FALSE POSITIVE       0.96      0.96      0.96       853\n",
      "\n",
      "      accuracy                           0.83      1748\n",
      "     macro avg       0.79      0.79      0.79      1748\n",
      "  weighted avg       0.83      0.83      0.83      1748\n",
      "\n"
     ]
    }
   ],
   "source": [
    "#Model 3\n",
    "clf = tree.DecisionTreeClassifier()\n",
    "clf = clf.fit(X_train_scaled, y_train)\n",
    "\n",
    "\n",
    "predictions = clf.predict(X_test_scaled)\n",
    "print(classification_report(y_test, predictions,))"
   ]
  },
  {
   "cell_type": "markdown",
   "metadata": {},
   "source": [
    "## Feel free to test more models"
   ]
  },
  {
   "cell_type": "markdown",
   "metadata": {},
   "source": [
    "# Find best model and safe"
   ]
  },
  {
   "cell_type": "code",
   "execution_count": 27,
   "metadata": {},
   "outputs": [],
   "source": [
    "# Compare metrics and determine best model\n"
   ]
  },
  {
   "cell_type": "code",
   "execution_count": 28,
   "metadata": {
    "ExecuteTime": {
     "end_time": "2020-10-04T23:49:46.017238Z",
     "start_time": "2020-10-04T23:49:38.649Z"
    }
   },
   "outputs": [
    {
     "data": {
      "text/plain": [
       "['exoplanet_model.sav']"
      ]
     },
     "execution_count": 28,
     "metadata": {},
     "output_type": "execute_result"
    }
   ],
   "source": [
    "# Save best model - replace \"your_model\" with your model variable\n",
    "\n",
    "import joblib\n",
    "filename = 'exoplanet_model.sav'\n",
    "joblib.dump(model, filename)"
   ]
  },
  {
   "cell_type": "code",
   "execution_count": null,
   "metadata": {},
   "outputs": [],
   "source": []
  }
 ],
 "metadata": {
  "kernel_info": {
   "name": "dev"
  },
  "kernelspec": {
   "display_name": "Python 3",
   "language": "python",
   "name": "python3"
  },
  "language_info": {
   "codemirror_mode": {
    "name": "ipython",
    "version": 3
   },
   "file_extension": ".py",
   "mimetype": "text/x-python",
   "name": "python",
   "nbconvert_exporter": "python",
   "pygments_lexer": "ipython3",
   "version": "3.6.12"
  },
  "nteract": {
   "version": "0.12.3"
  },
  "toc": {
   "base_numbering": 1,
   "nav_menu": {},
   "number_sections": true,
   "sideBar": true,
   "skip_h1_title": false,
   "title_cell": "Table of Contents",
   "title_sidebar": "Contents",
   "toc_cell": false,
   "toc_position": {},
   "toc_section_display": true,
   "toc_window_display": false
  },
  "varInspector": {
   "cols": {
    "lenName": 16,
    "lenType": 16,
    "lenVar": 40
   },
   "kernels_config": {
    "python": {
     "delete_cmd_postfix": "",
     "delete_cmd_prefix": "del ",
     "library": "var_list.py",
     "varRefreshCmd": "print(var_dic_list())"
    },
    "r": {
     "delete_cmd_postfix": ") ",
     "delete_cmd_prefix": "rm(",
     "library": "var_list.r",
     "varRefreshCmd": "cat(var_dic_list()) "
    }
   },
   "types_to_exclude": [
    "module",
    "function",
    "builtin_function_or_method",
    "instance",
    "_Feature"
   ],
   "window_display": false
  }
 },
 "nbformat": 4,
 "nbformat_minor": 2
}
